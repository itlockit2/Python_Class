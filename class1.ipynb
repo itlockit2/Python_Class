{
 "cells": [
  {
   "cell_type": "markdown",
   "metadata": {},
   "source": [
    "# Class1. 파이썬은 무엇인가"
   ]
  },
  {
   "cell_type": "markdown",
   "metadata": {},
   "source": [
    "## 1. Introduce\n",
    "1991년에 발표된 인터프리터 방식의 프로그래밍 언어로 사전적 의미는 그리스 로마 신화에서 \n",
    "아폴로 신이 퇴치한 큰 뱀 파이썬을 의미한다. "
   ]
  },
  {
   "cell_type": "markdown",
   "metadata": {},
   "source": [
    "<img src=\"http://i29.photobucket.com/albums/c292/jameswolf123/pythonresample.jpg\" alt=\"Drawing\" style=\"width: 500px;\"/>\n"
   ]
  },
  {
   "cell_type": "markdown",
   "metadata": {},
   "source": [
<<<<<<< HEAD
    "대부분의 파이썬 책 표지와 아이콘에 뱀 모양으로 그려져 있는 이유도 여기에 있다.\n\n",
    "<img src=\"https://upload.wikimedia.org/wikipedia/commons/thumb/c/c3/Python-logo-notext.svg/2000px-Python-logo-notext.svg.png\" alt=\"Drawing\" style=\"width: 300px;\"/>\n\n",
=======
    "대부분의 파이썬 책 표지와 아이콘에 뱀 모양으로 그려져 있는 이유도 여기에 있다.\n",
    "\n",
    "\n",
    "<img src=\"https://upload.wikimedia.org/wikipedia/commons/thumb/c/c3/Python-logo-notext.svg/2000px-Python-logo-notext.svg.png\" alt=\"Drawing\" style=\"width: 300px;\"/>\n",
>>>>>>> change contents
    "\n",
    "현재 TIOBE에서 선정한 프로그래밍 언어 월간 점유율 순위 4위 이지만 현재 가장 떠오르는 언어로\n",
    "전자과에서 자바수업에서 파이썬으로 바꾼것만 봐도 대세임을 알 수 있다."
   ]
  },
  {
   "cell_type": "markdown",
   "metadata": {},
   "source": [
    "## 2. Character\n",
    "### 2.1. Design Philosophy\n",
    "> Life is short, You need Python. 인생을 짧다, 고로 당신은 파이썬이 필요하다.\n",
    "\n",
    "기존의 프로그래밍 언어들은 하나 이상의 다양한 해결법이 존재하는것을 추구하는 반면\n",
    "파이썬은 '가장 아름다운 하나의 답이 존재한다'를 기본으로 하고 있다.\n",
    "* 아름다운 것이 추한 것보다 낫다.(Beautiful is better than ugly)\n",
    "* 명시적인 것이 암시적인 것보다 낫다. (Explicit is better than implicit) \n",
    "* 간결한 것이 복잡한 것보다 낫다. (Simple is better than complex)\n",
    "\n",
    "### 2.2. Python looks like human language.\n",
    "example ) if 4 in [1,2,3,4]: print(\"4가 있습니다\")"
   ]
  },
  {
   "cell_type": "code",
   "execution_count": 2,
   "metadata": {},
   "outputs": [
    {
     "name": "stdout",
     "output_type": "stream",
     "text": [
      "4가 있습니다\n"
     ]
    }
   ],
   "source": [
    "if 4 in [1,2,3,4]: print(\"4가 있습니다\")"
   ]
  },
  {
   "cell_type": "markdown",
   "metadata": {},
   "source": [
    "위의 예제는 다음처럼 읽을 수 있다.\n",
    "\"만약 4가 1,2,3,4중에 있으면 \"4가 있습니다\"를 출력한다.\"\n",
    "\n",
    "이처럼 문법이 쉬워 빠르게 배울 수 있다. C++같이 어려운 문법에서 벗어날 수 있다."
   ]
  },
  {
   "cell_type": "markdown",
   "metadata": {},
   "source": [
    "## 3. Install\n",
    "윈도우의 경우에는 설치가 정말 쉽다.\n",
    "\n",
    "1. 우선 파이썬 공식 홈페이지의 다운로드 페이지(http://www.python.org/downloads)에서 윈도우용 파이썬 언어 패키지를 다운로드한다. \n",
    "\n",
    "\n",
    "![](https://wikidocs.net/images/page/8/python_download.png)\n",
    "\n",
    "\n",
    "2. 인스톨러를 실행한 후에 \"install Now\"를 선택하면 바로 설치가 진행된다.\n",
    "\n",
    "\n",
    "![](https://wikidocs.net/images/page/8/install_python.png)\n",
    "\n",
    "## 4.  IDLE(통합개발툴)\n",
    "* 파이썬 IDLE(Integrated Development and Learning Environment) : 파이썬 프로그램 작성을 도와주는 통합 개발환경으로 파이썬 설치시 기본으로 설치되는 프로그램이다. \n",
    "* Pycharm(파이참) : 가장 유명한 파이썬 에디터 중 하나로 Visual studio와 비슷한 느낌\n",
    "\n",
    "## 5. Jupyter Notebook(주피터 노트북)\n",
    "웹을 통해서 파이썬 코드를 작성하고 실행할 수 있는 오픈 소스 웹 어플리케이션으로 \n",
    "아마 수업은 이것을 이용해서 진행할 예정\n",
    "1. http://168.131.151.207:10888 에 접속한다.\n",
    "2. 비밀번호 : password를 입력한다.\n",
    "3. python_class 폴더를 찾아 들어간다.\n",
    "4. 오른쪽에 new 버튼을 누르고 python3를 클릭하여 코딩을 시작한다."
   ]
  },
  {
   "cell_type": "code",
   "execution_count": null,
   "metadata": {},
   "outputs": [],
   "source": []
  }
 ],
 "metadata": {
  "kernelspec": {
   "display_name": "Python 3",
   "language": "python",
   "name": "python3"
  },
  "language_info": {
   "codemirror_mode": {
    "name": "ipython",
    "version": 3
   },
   "file_extension": ".py",
   "mimetype": "text/x-python",
   "name": "python",
   "nbconvert_exporter": "python",
   "pygments_lexer": "ipython3",
   "version": "3.6.5"
  }
 },
 "nbformat": 4,
 "nbformat_minor": 2
}
