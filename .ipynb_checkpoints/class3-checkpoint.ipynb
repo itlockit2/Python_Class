{
 "cells": [
  {
   "cell_type": "markdown",
   "metadata": {},
   "source": [
    "## 딕셔너리는 키/값 쌍을 저장한다.\n",
    "딕셔너리는 고유의 키와 관련된 값으로 이루어진 키/값 컬렉션이다.\n",
    "\n",
    "C++와 자바에서는 딕셔너리를 맵(Map)이라 부르고 펄과 루비에서는 해시(Hash)라 부른다."
   ]
  },
  {
   "cell_type": "code",
   "execution_count": 1,
   "metadata": {},
   "outputs": [
    {
     "name": "stdout",
     "output_type": "stream",
     "text": [
      "{'Name': 'Ford Prefect', 'Gender': 'Male', 'Occupation': 'Researcher', 'Home planet': 'Betelguse Seven'}\n"
     ]
    }
   ],
   "source": [
    "person3 = {'Name' : 'Ford Prefect',\n",
    "          'Gender' : 'Male',\n",
    "          'Occupation' : 'Researcher',\n",
    "          'Home planet' : 'Betelguse Seven'}\n",
    "print(person3)"
   ]
  },
  {
   "cell_type": "code",
   "execution_count": null,
   "metadata": {},
   "outputs": [],
   "source": []
  }
 ],
 "metadata": {
  "kernelspec": {
   "display_name": "Python 3",
   "language": "python",
   "name": "python3"
  },
  "language_info": {
   "codemirror_mode": {
    "name": "ipython",
    "version": 3
   },
   "file_extension": ".py",
   "mimetype": "text/x-python",
   "name": "python",
   "nbconvert_exporter": "python",
   "pygments_lexer": "ipython3",
   "version": "3.6.6"
  }
 },
 "nbformat": 4,
 "nbformat_minor": 2
}
