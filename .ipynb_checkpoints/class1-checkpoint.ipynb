{
 "cells": [
  {
   "cell_type": "markdown",
   "metadata": {},
   "source": [
    "# Class1. 파이썬은 무엇인가"
   ]
  },
  {
   "cell_type": "markdown",
   "metadata": {},
   "source": [
    "## 1. Introduce\n",
    "1991년에 발표된 인터프리터 방식의 프로그래밍 언어로 사전적 의미는 그리스 로마 신화에서 \n",
    "아폴로 신이 퇴치한 큰 뱀 파이썬을 의미한다. "
   ]
  },
  {
   "cell_type": "markdown",
   "metadata": {},
   "source": [
    "<img src=\"http://i29.photobucket.com/albums/c292/jameswolf123/pythonresample.jpg\" alt=\"Drawing\" style=\"width: 500px;\"/>\n"
   ]
  },
  {
   "cell_type": "markdown",
   "metadata": {},
   "source": [
    "대부분의 파이썬 책 표지와 아이콘에 뱀 모양으로 그려져 있는 이유도 여기에 있다.\n",
    "\n",
    "<img src=\"https://upload.wikimedia.org/wikipedia/commons/thumb/c/c3/Python-logo-notext.svg/2000px-Python-logo-notext.svg.png\" alt=\"Drawing\" style=\"width: 300px;\"/>\n",
    "\n",
    "\n",
    "현재 TIOBE에서 선정한 프로그래밍 언어 월간 점유율 순위 4위 이지만 현재 가장 떠오르는 언어로\n",
    "전자과에서 자바수업에서 파이썬으로 바꾼것만 봐도 대세임을 알 수 있다."
   ]
  },
  {
   "cell_type": "markdown",
   "metadata": {},
   "source": [
    "## 2. Character\n",
    "### 2.1. Design Philosophy\n",
    "> Life is short, You need Python. 인생을 짧다, 고로 당신은 파이썬이 필요하다.\n",
    "\n",
    "기존의 프로그래밍 언어들은 하나 이상의 다양한 해결법이 존재하는것을 추구하는 반면\n",
    "파이썬은 '가장 아름다운 하나의 답이 존재한다'를 기본으로 하고 있다.\n",
    "* 아름다운 것이 추한 것보다 낫다.(Beautiful is better than ugly)\n",
    "* 명시적인 것이 암시적인 것보다 낫다. (Explicit is better than implicit) \n",
    "* 간결한 것이 복잡한 것보다 낫다. (Simple is better than complex)\n",
    "\n",
    "### 2.2. Python looks like human language.\n",
    "example ) if 4 in [1,2,3,4]: print(\"4가 있습니다\")"
   ]
  },
  {
   "cell_type": "code",
   "execution_count": 7,
   "metadata": {},
   "outputs": [
    {
     "name": "stdout",
     "output_type": "stream",
     "text": [
      "4가 있습니다\n"
     ]
    }
   ],
   "source": [
    "if 4 in [1,2,3,4]: print(\"4가 있습니다\")"
   ]
  },
  {
   "cell_type": "markdown",
   "metadata": {},
   "source": [
    "위의 예제는 다음처럼 읽을 수 있다.\n",
    "\"만약 4가 1,2,3,4중에 있으면 \"4가 있습니다\"를 출력한다.\"\n",
    "\n",
    "이처럼 문법이 쉬워 빠르게 배울 수 있다. C++같이 어려운 문법에서 벗어날 수 있다."
   ]
  },
  {
   "cell_type": "markdown",
   "metadata": {},
   "source": [
    "## 3. Install\n",
    "윈도우의 경우에는 설치가 정말 쉽다.\n",
    "\n",
    "1. 우선 파이썬 공식 홈페이지의 다운로드 페이지(http://www.python.org/downloads)에서 윈도우용 파이썬 언어 패키지를 다운로드한다. \n",
    "\n",
    "\n",
    "![](https://wikidocs.net/images/page/8/python_download.png)\n",
    "\n",
    "\n",
    "2. 인스톨러를 실행한 후에 \"install Now\"를 선택하면 바로 설치가 진행된다.\n",
    "\n",
    "\n",
    "![](https://wikidocs.net/images/page/8/install_python.png)\n",
    "\n",
    "## 4.  IDLE(통합개발툴)\n",
    "* 파이썬 IDLE(Integrated Development and Learning Environment) : 파이썬 프로그램 작성을 도와주는 통합 개발환경으로 파이썬 설치시 기본으로 설치되는 프로그램이다. \n",
    "* Pycharm(파이참) : 가장 유명한 파이썬 에디터 중 하나로 Visual studio와 비슷한 느낌\n",
    "\n",
    "## 5. Jupyter Notebook(주피터 노트북)\n",
    "웹을 통해서 파이썬 코드를 작성하고 실행할 수 있는 오픈 소스 웹 어플리케이션으로 \n",
    "아마 수업은 이것을 이용해서 진행할 예정\n",
    "1. http://168.131.151.207:10888 에 접속\n",
    "2. 비밀번호 : password 를 입력\n",
    "3. Python_Class 폴더를 찾아 들어간다.\n",
    "4. 오른쪽에 new를 클릭하어 python3를 입력\n",
    "5. File 에서 Rename을 클릭하고 본인의 이름으로 파일이름 변경\n"
   ]
  },
  {
   "cell_type": "code",
   "execution_count": 4,
   "metadata": {},
   "outputs": [
    {
     "name": "stdout",
     "output_type": "stream",
     "text": [
      "Not an odd minute\n"
     ]
    }
   ],
   "source": [
    "from datetime import datetime\n",
    "odds = [1,3,5,7,9,11,13,15,17,19,21,23,25,27,29,31,33,35,37,39,41,43,45,47,49,51,53,55,57,59]\n",
    "\n",
    "right_this_minute = datetime.today().minute\n",
    "\n",
    "if right_this_minute in odds:\n",
    "    print(\"This minute seems a little odd.\")\n",
    "else:\n",
    "    print(\"Not an odd minute\")"
   ]
  },
  {
   "cell_type": "markdown",
   "metadata": {},
   "source": [
    "첫 줄부터 간단하게 살펴보도록 하자\n",
    "\n",
    "` from datetime import datetime`\n",
    "\n",
    "코드의 첫 번째 행은 파이썬의 표준라이브러리(재사용할 수 있는 내장된 소프트웨어 모듈)로 부터\n",
    "일부기능을 Import 하는 동작을 수행한다.\n",
    "\n",
    "from 라이브러리 이름 import 서브모듈의 이름"
   ]
  },
  {
   "cell_type": "markdown",
   "metadata": {},
   "source": [
    "<img src=\"https://southeastasia1-mediap.svc.ms/transform/thumbnail?provider=spo&inputFormat=jpg&cs=fFNQTw&docid=https%3A%2F%2Fejnu-my.sharepoint.com%3A443%2F_api%2Fv2.0%2Fdrives%2Fb!_U5oaQKr9EyiEK248THLj7SxTn4Qq-BAvnHS1SKwmu0m0DeBrRioQZwdj7vsEQVy%2Fitems%2F01O7EISIEXBC6RQYA2E5AKL25JNUQXIJX6%3Fversion%3DPublished&encodeFailures=1&ctag=%22c%3A%7B18BD0897-1A60-4027-A5EB-A96D217426FE%7D%2C2%22&width=918&height=930&srcWidth=&srcHeight=\" alt=\"Drawing\" style=\"width: 1000px;\"/>            "
   ]
  },
  {
   "cell_type": "markdown",
   "metadata": {},
   "source": [
    "## 함수 + 모듈 = 라이브러리\n",
    "위 그림에서 알수 있듯이 라이브러리 안에는 많은 모듈이 있고 모듈안에는 많은 함수들이 존재한다. 따라서 \n",
    "서브모듈을 Import하는 방법도 가능하지만 서브모듈에서 함수를 Import 하는것 또한 가능하다\n",
    "\n",
    "` from os import getcwd `\n",
    "\n",
    "from 서브모듈의 이름 import 함수이름"
   ]
  },
  {
   "cell_type": "markdown",
   "metadata": {},
   "source": [
    "## 자료구조 리스트\n",
    "\n",
    "`odds = [1,3,5,7,9,11,13,15,17,19,21,23,25,27,29,31,33,35,37,39,41,43,45,47,49,51,53,55,57,59]`\n",
    "\n",
    "홀수의 리스트를 'odds'라는 새변수에 할당한다. 파이썬의 가장큰 특징중 하나가 자료형을 따로 지정하지 않아도 된다.\n",
    "왜냐하면 리스트안에는 다른 유형의 자료형도 들어갈 수 있기 때문이다."
   ]
  },
  {
   "cell_type": "markdown",
   "metadata": {},
   "source": [
    "## 내장 모듈 함수 호출\n",
    "\n",
    "`right_this_minute = datetime.today().minute`\n",
    "\n",
    "위 코드를 2줄로 분할해보자\n",
    "\n",
    "우선 서브모듈 datetime 에서 today() 함수를 호출하여 객체를 저장한다.\n",
    "\n",
    "`time_now = datetime.today()`\n",
    "\n",
    "그리고 분 값을 추출하여 변수에 저장.\n",
    "\n",
    "`right_this_minute = time.now.minute`\n",
    "\n",
    "이렇게 코드를 짜도 전혀 문제가 없지만 대부분의 이와 같은 임시변수가 나중에 사용되는것이 아니라면\n",
    "최대한 만들지 않는것을 선호한다."
   ]
  },
  {
   "cell_type": "markdown",
   "metadata": {},
   "source": [
    "## 언제 코드 블록을 실행할 것인지 결정하기\n",
    "\n",
    "`if right_this_minute in odds:`\n",
    "\n",
    "if 명령문은 참인지 거짓인지 여부를 판단한다. in 연산자는 어떤 것이 다른 것에 포함되는지 결정하는 연산자이다.\n",
    "파이썬에서는 중괄호로 코드블록을 구별하지 않고 들여쓰기로 구분한다. 이런것을 스위트(Suite)라고 표현한다.\n",
    "\n",
    "`if right_this_minute in odds:\n",
    "    print(\"This minute seems a little odd.\")\n",
    "else:\n",
    "    print(\"Not an odd minute\")`\n",
    "    \n",
    "파이썬에서 중첩if문을 사용할때는 elseif가 아니라 'elif' 라고 한다."
   ]
  },
  {
   "cell_type": "markdown",
   "metadata": {},
   "source": [
    "## 스위트안에 스위트 포함 예시\n",
    "\n",
    "`if today == 'Saturday':\n",
    "    print('Party!!')\n",
    "elif today == 'Sunday':\n",
    "    if condition == 'Headache':\n",
    "        print('Recover, then rest')\n",
    "    else:\n",
    "        print('Rest')\n",
    "else:\n",
    "    print('Work!, Work!, Work,!')`"
   ]
  },
  {
   "cell_type": "markdown",
   "metadata": {},
   "source": [
    "<img src=\"https://southeastasia1-mediap.svc.ms/transform/thumbnail?provider=spo&inputFormat=jpg&cs=fFNQTw&docid=https%3A%2F%2Fejnu-my.sharepoint.com%3A443%2F_api%2Fv2.0%2Fdrives%2Fb!_U5oaQKr9EyiEK248THLj7SxTn4Qq-BAvnHS1SKwmu0m0DeBrRioQZwdj7vsEQVy%2Fitems%2F01O7EISIGCLPCEZTUVVZELLAR37OECLOYK%3Fversion%3DPublished&encodeFailures=1&ctag=%22c%3A%7B4CC45BC2-95CE-48AE-B582-3BFB8825BB0A%7D%2C2%22&width=1855&height=950&srcWidth=&srcHeight=\" alt=\"Drawing\" style=\"width: 1000px;\"/>            "
   ]
  },
  {
   "cell_type": "markdown",
   "metadata": {},
   "source": [
    "## 프로그램의 기능을 확장해보자\n",
    "1. 동그라미 부분의 코드를 반복\n",
    "    * 루프를 이용하여 스위트를 원하는 만큼 반복실행 할 수 있다. \n",
    "2. 실행정지\n",
    "    * 파이썬의 표준 time 모듈은 지정된 초만큼 실행을 정지하는 sleep이라는 함수를 제공한다.\n",
    "3. 난수생성\n",
    "    * random이라는 파이썬 모듈이 제공하는 randint를 이용하면 난수를 생성할 수 있다."
   ]
  },
  {
   "cell_type": "markdown",
   "metadata": {},
   "source": [
    "## For문 사용예제"
   ]
  },
  {
   "cell_type": "code",
   "execution_count": 7,
   "metadata": {},
   "outputs": [
    {
     "name": "stdout",
     "output_type": "stream",
     "text": [
      "1\n",
      "2\n",
      "3\n"
     ]
    }
   ],
   "source": [
    "for i in [1,2,3]:\n",
    "    print(i)"
   ]
  },
  {
   "cell_type": "code",
   "execution_count": 8,
   "metadata": {},
   "outputs": [
    {
     "name": "stdout",
     "output_type": "stream",
     "text": [
      "H\n",
      "i\n",
      "!\n"
     ]
    }
   ],
   "source": [
    "for ch in \"Hi!\":\n",
    "    print(ch)"
   ]
  },
  {
   "cell_type": "code",
   "execution_count": 9,
   "metadata": {},
   "outputs": [
    {
     "name": "stdout",
     "output_type": "stream",
     "text": [
      "0\n",
      "1\n",
      "2\n",
      "3\n",
      "4\n"
     ]
    }
   ],
   "source": [
    "for num in range(5):\n",
    "    print(num)"
   ]
  },
  {
   "cell_type": "code",
   "execution_count": 10,
   "metadata": {},
   "outputs": [
    {
     "name": "stdout",
     "output_type": "stream",
     "text": [
      "This minute seems a little odd.\n",
      "This minute seems a little odd.\n",
      "This minute seems a little odd.\n",
      "This minute seems a little odd.\n",
      "This minute seems a little odd.\n"
     ]
    }
   ],
   "source": [
    "from datetime import datetime\n",
    "odds = [1,3,5,7,9,11,13,15,17,19,21,23,25,27,29,31,33,35,37,39,41,43,45,47,49,51,53,55,57,59]\n",
    "\n",
    "right_this_minute = datetime.today().minute\n",
    "\n",
    "for i in range(5):\n",
    "    if right_this_minute in odds:\n",
    "        print(\"This minute seems a little odd.\")\n",
    "    else:\n",
    "        print(\"Not an odd minute\")"
   ]
  },
  {
   "cell_type": "markdown",
   "metadata": {},
   "source": [
    "## 정지 기능 준비"
   ]
  },
  {
   "cell_type": "code",
   "execution_count": 11,
   "metadata": {},
   "outputs": [],
   "source": [
    "import time\n",
    "# 5초 동안 프로그램을 정지한다.\n",
    "time.sleep(5)"
   ]
  },
  {
   "cell_type": "markdown",
   "metadata": {},
   "source": [
    "## 파이썬으로 난수 생성하기"
   ]
  },
  {
   "cell_type": "code",
   "execution_count": 12,
   "metadata": {},
   "outputs": [
    {
     "data": {
      "text/plain": [
       "['BPF',\n",
       " 'LOG4',\n",
       " 'NV_MAGICCONST',\n",
       " 'RECIP_BPF',\n",
       " 'Random',\n",
       " 'SG_MAGICCONST',\n",
       " 'SystemRandom',\n",
       " 'TWOPI',\n",
       " '_BuiltinMethodType',\n",
       " '_MethodType',\n",
       " '_Sequence',\n",
       " '_Set',\n",
       " '__all__',\n",
       " '__builtins__',\n",
       " '__cached__',\n",
       " '__doc__',\n",
       " '__file__',\n",
       " '__loader__',\n",
       " '__name__',\n",
       " '__package__',\n",
       " '__spec__',\n",
       " '_acos',\n",
       " '_bisect',\n",
       " '_ceil',\n",
       " '_cos',\n",
       " '_e',\n",
       " '_exp',\n",
       " '_inst',\n",
       " '_itertools',\n",
       " '_log',\n",
       " '_pi',\n",
       " '_random',\n",
       " '_sha512',\n",
       " '_sin',\n",
       " '_sqrt',\n",
       " '_test',\n",
       " '_test_generator',\n",
       " '_urandom',\n",
       " '_warn',\n",
       " 'betavariate',\n",
       " 'choice',\n",
       " 'choices',\n",
       " 'expovariate',\n",
       " 'gammavariate',\n",
       " 'gauss',\n",
       " 'getrandbits',\n",
       " 'getstate',\n",
       " 'lognormvariate',\n",
       " 'normalvariate',\n",
       " 'paretovariate',\n",
       " 'randint',\n",
       " 'random',\n",
       " 'randrange',\n",
       " 'sample',\n",
       " 'seed',\n",
       " 'setstate',\n",
       " 'shuffle',\n",
       " 'triangular',\n",
       " 'uniform',\n",
       " 'vonmisesvariate',\n",
       " 'weibullvariate']"
      ]
     },
     "execution_count": 12,
     "metadata": {},
     "output_type": "execute_result"
    }
   ],
   "source": [
    "import random\n",
    "# dir함수를 이용하면 모듈안에 어떤 함수가 있는지 알수 있다.\n",
    "dir(random)"
   ]
  },
  {
   "cell_type": "code",
   "execution_count": 13,
   "metadata": {},
   "outputs": [
    {
     "name": "stdout",
     "output_type": "stream",
     "text": [
      "Help on method randint in module random:\n",
      "\n",
      "randint(a, b) method of random.Random instance\n",
      "    Return random integer in range [a, b], including both end points.\n",
      "\n"
     ]
    }
   ],
   "source": [
    "# help함수를 이용하면 함수가 어떻게 사용되는지 알 수 있다.\n",
    "help(random.randint)"
   ]
  },
  {
   "cell_type": "code",
   "execution_count": 16,
   "metadata": {},
   "outputs": [
    {
     "name": "stdout",
     "output_type": "stream",
     "text": [
      "60\n",
      "29\n",
      "54\n"
     ]
    }
   ],
   "source": [
    "import random\n",
    "print(random.randint(1,60))\n",
    "print(random.randint(1,60))\n",
    "print(random.randint(1,60))"
   ]
  },
  {
   "cell_type": "code",
   "execution_count": null,
   "metadata": {},
   "outputs": [],
   "source": [
    "from datetime import datetime\n",
    "## ...\n",
    "## ...\n",
    "odds = [1,3,5,7,9,11,13,15,17,19,21,23,25,27,29,31,33,35,37,39,41,43,45,47,49,51,53,55,57,59]\n",
    "\n",
    "## ...\n",
    "    right_this_minute = datetime.today().minute\n",
    "    if right_this_minute in odds:\n",
    "        print(\"This minute seems a little odd.\")\n",
    "    else:\n",
    "        print(\"Not an odd minute\")\n",
    "    wait time = ## ...\n",
    "    ## ... ( # ...)"
   ]
  },
  {
   "cell_type": "markdown",
   "metadata": {},
   "source": [
    "## 밑에 있는 코드 블럭을 적절하게 위에 대입시키고 실행을 시켜보자\n",
    "* time.sleep\n",
    "* import time\n",
    "* for i in range(5):\n",
    "* wait_time\n",
    "* import random\n",
    "* random.randint(1,60)"
   ]
  },
  {
   "cell_type": "code",
   "execution_count": null,
   "metadata": {},
   "outputs": [],
   "source": []
  }
 ],
 "metadata": {
  "kernelspec": {
   "display_name": "Python 3",
   "language": "python",
   "name": "python3"
  },
  "language_info": {
   "codemirror_mode": {
    "name": "ipython",
    "version": 3
   },
   "file_extension": ".py",
   "mimetype": "text/x-python",
   "name": "python",
   "nbconvert_exporter": "python",
   "pygments_lexer": "ipython3",
   "version": "3.6.6"
  }
 },
 "nbformat": 4,
 "nbformat_minor": 2
}
