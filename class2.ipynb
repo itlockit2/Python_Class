{
 "cells": [
  {
   "cell_type": "code",
   "execution_count": 1,
   "metadata": {},
   "outputs": [
    {
     "name": "stdout",
     "output_type": "stream",
     "text": [
      "Provide a word to search fow vowels: Milliways\n",
      "i\n",
      "a\n"
     ]
    }
   ],
   "source": [
    "vowels = ['a', 'e', 'i', 'o', 'u']\n",
    "word = input(\"Provide a word to search fow vowels: \")\n",
    "found = []\n",
    "\n",
    "for letter in word:\n",
    "    if letter in vowels:\n",
    "        if letter not in found:\n",
    "            found.append(letter)\n",
    "for letter in found:\n",
    "    print(letter)"
   ]
  },
  {
   "cell_type": "code",
   "execution_count": 7,
   "metadata": {},
   "outputs": [
    {
     "data": {
      "text/plain": [
       "[1, 2, 3, 4]"
      ]
     },
     "execution_count": 7,
     "metadata": {},
     "output_type": "execute_result"
    }
   ],
   "source": [
    "nums = [ 1,2,3,4]\n",
    "nums"
   ]
  },
  {
   "cell_type": "code",
   "execution_count": 8,
   "metadata": {},
   "outputs": [
    {
     "data": {
      "text/plain": [
       "[1, 2, 4]"
      ]
     },
     "execution_count": 8,
     "metadata": {},
     "output_type": "execute_result"
    }
   ],
   "source": [
    "# remove : 객체의 값을 인자로 받음\n",
    "# 인덱스 값이 아니라 실제로 삭제를 할 값이다.\n",
    "nums.remove(3)\n",
    "nums"
   ]
  },
  {
   "cell_type": "code",
   "execution_count": 9,
   "metadata": {},
   "outputs": [
    {
     "data": {
      "text/plain": [
       "[1, 2]"
      ]
     },
     "execution_count": 9,
     "metadata": {},
     "output_type": "execute_result"
    }
   ],
   "source": [
    "# pop : 인덱스 값을 인자로 받음\n",
    "# 만약 인덱스 값을 지정하지 않고 pop을 호출하면 리스트의 마지막 객체를 삭제하고 반환한다.\n",
    "nums.pop()\n",
    "nums"
   ]
  },
  {
   "cell_type": "code",
   "execution_count": 10,
   "metadata": {},
   "outputs": [
    {
     "data": {
      "text/plain": [
       "[2]"
      ]
     },
     "execution_count": 10,
     "metadata": {},
     "output_type": "execute_result"
    }
   ],
   "source": [
    "# 인덱스 값을 지정한다. 0은 리스트의 첫번째 객체 즉 숫자1을 의미한다.\n",
    "nums.pop(0)\n",
    "nums"
   ]
  },
  {
   "cell_type": "code",
   "execution_count": 12,
   "metadata": {},
   "outputs": [
    {
     "data": {
      "text/plain": [
       "[2, 3, 4]"
      ]
     },
     "execution_count": 12,
     "metadata": {},
     "output_type": "execute_result"
    }
   ],
   "source": [
    "# 객체로 리스트 확장하기\n",
    "# extends : 객체 리스트를 인자로 받음\n",
    "nums.extend([3,4])\n",
    "nums"
   ]
  },
  {
   "cell_type": "code",
   "execution_count": 13,
   "metadata": {},
   "outputs": [
    {
     "data": {
      "text/plain": [
       "[1, 2, 3, 4]"
      ]
     },
     "execution_count": 13,
     "metadata": {},
     "output_type": "execute_result"
    }
   ],
   "source": [
    "# 리스트에 객체 추가하기\n",
    "# insert : 인덱스 값과 객체를 인자로 받음\n",
    "# insert(index, value)\n",
    "# index 앞에 value를 추가한다.\n",
    "nums.insert(0,1)\n",
    "nums"
   ]
  },
  {
   "cell_type": "code",
   "execution_count": 14,
   "metadata": {},
   "outputs": [
    {
     "data": {
      "text/plain": [
       "[1, 2, 'two-and-a-half', 3, 4]"
      ]
     },
     "execution_count": 14,
     "metadata": {},
     "output_type": "execute_result"
    }
   ],
   "source": [
    "nums.insert(2, \"two-and-a-half\")\n",
    "nums"
   ]
  },
  {
   "cell_type": "code",
   "execution_count": 24,
   "metadata": {},
   "outputs": [
    {
     "name": "stdout",
     "output_type": "stream",
     "text": [
      "Don't panic!\n",
      "['o', 'n', ' ', 't', 'a', 'p']\n"
     ]
    }
   ],
   "source": [
    "# don't panic을 on tap으로 바꾸시오\n",
    "phrase = \"Don't panic!\"\n",
    "plist = list(phrase)\n",
    "# don't panic에서 맨뒤에 4글자(n,i,c,! )를 지운다 \n",
    "for i in range(4):\n",
    "    plist.pop()\n",
    "# don't pa 에서 맨앞글자 d를 지운다.\n",
    "plist.pop(0)\n",
    "# on't pa 에서 '를 찾아 지운다.\n",
    "plist.remove(\"'\")\n",
    "# ont pa에서 a , p 를 꺼내고 a , p 를 집어넣는다.\n",
    "plist.extend([plist.pop(),plist.pop()])\n",
    "# ont ap 에서 2번째 인덱스앞에 3번째 값( )을 넣는다.\n",
    "plist.insert(2,plist.pop(3))\n",
    "print(phrase)\n",
    "print(plist)"
   ]
  },
  {
   "cell_type": "code",
   "execution_count": 28,
   "metadata": {},
   "outputs": [
    {
     "name": "stdout",
     "output_type": "stream",
     "text": [
      "[1, 2, 3, 4, 5]\n",
      "[1, 2, 3, 4, 5]\n",
      "[1, 2, 3, 4, 5, 6]\n",
      "[1, 2, 3, 4, 5, 6]\n"
     ]
    }
   ],
   "source": [
    "first = [1,2,3,4,5]\n",
    "print(first)\n",
    "second = first\n",
    "print(second)\n",
    "second.append(6)\n",
    "print(first)\n",
    "print(second)"
   ]
  },
  {
   "cell_type": "code",
   "execution_count": 31,
   "metadata": {},
   "outputs": [
    {
     "name": "stdout",
     "output_type": "stream",
     "text": [
      "[1, 2, 3, 4, 5, 6, 7]\n",
      "[1, 2, 3, 4, 5, 6]\n"
     ]
    }
   ],
   "source": [
    "third = second.copy()\n",
    "third.append(7)\n",
    "print(third)\n",
    "print(second)"
   ]
  },
  {
   "cell_type": "code",
   "execution_count": 35,
   "metadata": {},
   "outputs": [
    {
     "name": "stdout",
     "output_type": "stream",
     "text": [
      "['D', 'o', 'n', \"'\", 't', ' ', 'p', 'a', 'n', 'i', 'c', '!']\n",
      "['D', \"'\", 'p', 'i']\n",
      "[\"'\", 't', ' ', 'p', 'a', 'n', 'i', 'c', '!']\n",
      "['D', 'o', 'n', \"'\", 't', ' ', 'p', 'a', 'n', 'i']\n",
      "['D', 'n', 't', 'p', 'n', 'c']\n"
     ]
    }
   ],
   "source": [
    "# 리스트는 시작, 중지, 스텝을 이해한다.\n",
    "# listname[시작:중지:스텝]\n",
    "# 시작값이 없으면 기본값 0 을 갖는다.\n",
    "# 중지값이 없으면 리스트의 최대값을 갖는다.\n",
    "# 스텝값이 없으면 기본값 1을 갖는다.\n",
    "saying = \"Don't panic!\"\n",
    "letters = list(saying)\n",
    "print(letters)\n",
    "print(letters[0:10:3])\n",
    "print(letters[3:])\n",
    "print(letters[:10])\n",
    "print(letters[::2])"
   ]
  },
  {
   "cell_type": "code",
   "execution_count": 46,
   "metadata": {},
   "outputs": [
    {
     "name": "stdout",
     "output_type": "stream",
     "text": [
      "['T', 'h', 'e', ' ', 'H', 'i', 't', 'c', 'h', 'h', 'i', 'k', 'e', 'r', \"'\", 's', ' ', 'G', 'u', 'i', 'd', 'e', ' ', 't', 'o', ' ', 't', 'h', 'e', ' ', 'G', 'a', 'l', 'a', 'x', 'y']\n",
      "['T', 'h', 'e']\n",
      "The\n",
      "Galaxy\n",
      "yxalaG eht ot ediuG s'rekihhctiH ehT\n",
      "TeHthie' ud oteGlx\n",
      "Hitchhiker\n",
      "rekihhctiH\n"
     ]
    }
   ],
   "source": [
    "book = \"The Hitchhiker's Guide to the Galaxy\"\n",
    "booklist = list(book)\n",
    "print(booklist)\n",
    "print(booklist[0:3])\n",
    "print(''.join(booklist[0:3]))\n",
    "print(''.join(booklist[-6:]))\n",
    "backwords = booklist[::-1]\n",
    "print(''.join(backwords))\n",
    "every_other = booklist[::2]\n",
    "print(''.join(every_other))\n",
    "print(''.join(booklist[4:14]))\n",
    "print(''.join(booklist[13:3:-1]))"
   ]
  },
  {
   "cell_type": "code",
   "execution_count": 47,
   "metadata": {},
   "outputs": [
    {
     "name": "stdout",
     "output_type": "stream",
     "text": [
      "Don't panic!\n",
      "['D', 'o', 'n', \"'\", 't', ' ', 'p', 'a', 'n', 'i', 'c', '!']\n",
      "['D', 'o', 'n', \"'\", 't', ' ', 'p', 'a', 'n', 'i', 'c', '!']\n",
      "on tap\n"
     ]
    }
   ],
   "source": [
    "# don't panic을 on tap으로 바꾸시오\n",
    "phrase = \"Don't panic!\"\n",
    "plist = list(phrase)\n",
    "print(phrase)\n",
    "print(plist)\n",
    "\n",
    "# plist에 단어 'on'을 슬라이스 합니다.\n",
    "new_phrase = ''.join(plist[1:3])\n",
    "# 그리고 필요한 각각의 문자를 골라낸다.\n",
    "new_phrase = new_phrase + ''.join([plist[5],plist[4],plist[7],plist[6]])\n",
    "\n",
    "\n",
    "print(plist)\n",
    "print(new_phrase)"
   ]
  },
  {
   "cell_type": "code",
   "execution_count": null,
   "metadata": {},
   "outputs": [],
   "source": []
  }
 ],
 "metadata": {
  "kernelspec": {
   "display_name": "Python 3",
   "language": "python",
   "name": "python3"
  },
  "language_info": {
   "codemirror_mode": {
    "name": "ipython",
    "version": 3
   },
   "file_extension": ".py",
   "mimetype": "text/x-python",
   "name": "python",
   "nbconvert_exporter": "python",
   "pygments_lexer": "ipython3",
   "version": "3.6.6"
  }
 },
 "nbformat": 4,
 "nbformat_minor": 2
}
