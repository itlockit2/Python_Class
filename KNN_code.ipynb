{
 "cells": [
  {
   "cell_type": "code",
   "execution_count": 1,
   "metadata": {},
   "outputs": [],
   "source": [
    "#-*- coding:utf-8 -*-"
   ]
  },
  {
   "cell_type": "code",
   "execution_count": 1,
   "metadata": {
    "scrolled": true
   },
   "outputs": [],
   "source": [
    "import numpy as np\n",
    "import pandas as pd\n",
    "import matplotlib.pyplot as plt\n",
    "%matplotlib inline"
   ]
  },
  {
   "cell_type": "code",
   "execution_count": 2,
   "metadata": {},
   "outputs": [
    {
     "data": {
      "image/png": "[encoded data removed]",
      "text/plain": [
       "<Figure size 432x288 with 1 Axes>"
      ]
     },
     "metadata": {
      "needs_background": "light"
     },
     "output_type": "display_data"
    }
   ],
   "source": [
    "# A_x_List \n",
    "A_x_list = [1,3,5,2,3,4]\n",
    "A_y_list = [2,3,4,5,1,6]\n",
    "\n",
    "# define numpy array \n",
    "A_x = np.array(A_x_list)\n",
    "A_y = np.array(A_y_list)\n",
    "\n",
    "# B_x List\n",
    "B_x_list = [8,7,4,6,9,10]\n",
    "B_y_list = [3,2,1,4,1,2]\n",
    "\n",
    "# define numpy array\n",
    "B_x = np.array(B_x_list)\n",
    "B_y = np.array(B_y_list)\n",
    " \n",
    "finding_point = [5,4]\n",
    " \n",
    "plt.figure()\n",
    "plt.scatter(A_x,A_y)\n",
    "plt.scatter(B_x,B_y)\n",
    "plt.scatter(finding_point[0],finding_point[1], marker='*')\n",
    " \n",
    "plt.show()"
   ]
  },
  {
   "cell_type": "code",
   "execution_count": 3,
   "metadata": {},
   "outputs": [],
   "source": [
    "def min_val(L,c):\n",
    "    # copy L to temp\n",
    "    temp = L.copy()\n",
    "    # sort array\n",
    "    temp.sort()\n",
    "    # select item\n",
    "    item = temp[c-1]\n",
    "    return L.index(item),item"
   ]
  },
  {
   "cell_type": "code",
   "execution_count": 4,
   "metadata": {},
   "outputs": [],
   "source": [
    "def AorB(k,x,y):\n",
    "    \n",
    "    # init val\n",
    "    numA = 0\n",
    "    numB = 0\n",
    "    # define empty array\n",
    "    A_xy = []\n",
    "    B_xy = []\n",
    "    \n",
    "    # Join two arrays\n",
    "    for i in range(len(A_x_list)):\n",
    "        A_xy.append([A_x_list[i],A_y_list[i]])\n",
    "    for i in range(len(B_x_list)):\n",
    "        B_xy.append([B_x_list[i],B_y_list[i]])\n",
    " \n",
    "    A_distance = []\n",
    "    B_distance = []\n",
    "    \n",
    "    # Cal A_xy between x,y\n",
    "    for each in A_xy:\n",
    "        dis = ((each[0] - x)**2 + (each[1] - y)**2)**(1/2)\n",
    "        A_distance.append(dis)\n",
    "        \n",
    "    for each in B_xy:\n",
    "        dis = ((each[0] - x)**2 + (each[1] - y)**2)**(1/2)\n",
    "        B_distance.append(dis)\n",
    "        \n",
    "    A_result = []\n",
    "    B_result = []\n",
    "    \n",
    "    A_min_count = 1\n",
    "    B_min_count = 1\n",
    "    \n",
    "    \n",
    "    while(numA + numB < k):\n",
    "        min_A = 99999\n",
    "        min_B = 99999\n",
    " \n",
    "        _, min_A = min_val(A_distance,A_min_count)\n",
    "        _, min_B = min_val(B_distance,B_min_count)\n",
    " \n",
    "        # select min val A and B\n",
    "        if min_A < min_B:\n",
    "            numA += 1\n",
    "            A_min_count += 1\n",
    "            A_result.append(A_xy[A_distance.index(min_A)])\n",
    "            # array val init\n",
    "            A_distance[A_distance.index(min_A)] = -1\n",
    "        elif min_A > min_B:\n",
    "            numB += 1\n",
    "            B_min_count += 1\n",
    "            B_result.append(B_xy[B_distance.index(min_B)])\n",
    "            B_distance[B_distance.index(min_B)] = -1\n",
    "        elif min_A == min_B:\n",
    "            numA += 1\n",
    "            numB += 1\n",
    "            A_min_count += 1\n",
    "            B_min_count += 1\n",
    "            A_result.append(A_xy[A_distance.index(min_A)])\n",
    "            A_distance[A_distance.index(min_A)] = -1\n",
    "            B_result.append(B_xy[B_distance.index(min_B)])\n",
    "            B_distance[B_distance.index(min_B)] = -1\n",
    "            \n",
    "    if numA > numB:\n",
    "        print(\"결과는 A 그룹입니다.\")\n",
    "    elif numA < numB:\n",
    "        print(\"결과는 B 그룹입니다.\")\n",
    "    elif numA == numB:\n",
    "        print(\"잘 모르겠습니다.\")\n",
    "    print(\"A 점은 \",A_result,\"\\nB 점은 \",B_result,\"\\n \")"
   ]
  },
  {
   "cell_type": "code",
   "execution_count": 7,
   "metadata": {},
   "outputs": [
    {
     "name": "stdout",
     "output_type": "stream",
     "text": [
      "K =  2\n",
      "잘 모르겠습니다.\n",
      "A 점은  [[5, 4]] \n",
      "B 점은  [[6, 4]] \n",
      " \n"
     ]
    }
   ],
   "source": [
    "k = 2\n",
    "print(\"K = \",k)\n",
    "AorB(k,finding_point[0],finding_point[1])"
   ]
  },
  {
   "cell_type": "code",
   "execution_count": 8,
   "metadata": {},
   "outputs": [
    {
     "name": "stdout",
     "output_type": "stream",
     "text": [
      "K =  3\n",
      "결과는 A 그룹입니다.\n",
      "A 점은  [[5, 4], [3, 3]] \n",
      "B 점은  [[6, 4]] \n",
      " \n"
     ]
    }
   ],
   "source": [
    "k = 3\n",
    "print(\"K = \",k)\n",
    "AorB(k,finding_point[0],finding_point[1])"
   ]
  },
  {
   "cell_type": "code",
   "execution_count": 10,
   "metadata": {},
   "outputs": [
    {
     "name": "stdout",
     "output_type": "stream",
     "text": [
      "K =  4\n",
      "결과는 A 그룹입니다.\n",
      "A 점은  [[5, 4], [3, 3], [4, 6]] \n",
      "B 점은  [[6, 4]] \n",
      " \n"
     ]
    }
   ],
   "source": [
    "k = 4\n",
    "print(\"K = \",k)\n",
    "AorB(k,finding_point[0],finding_point[1])"
   ]
  },
  {
   "cell_type": "code",
   "execution_count": 11,
   "metadata": {},
   "outputs": [
    {
     "name": "stdout",
     "output_type": "stream",
     "text": [
      "K =  5\n",
      "결과는 A 그룹입니다.\n",
      "A 점은  [[5, 4], [3, 3], [4, 6]] \n",
      "B 점은  [[6, 4], [7, 2]] \n",
      " \n"
     ]
    }
   ],
   "source": [
    "k = 5\n",
    "print(\"K = \",k)\n",
    "AorB(k,finding_point[0],finding_point[1])"
   ]
  },
  {
   "cell_type": "code",
   "execution_count": null,
   "metadata": {},
   "outputs": [],
   "source": []
  }
 ],
 "metadata": {
  "kernelspec": {
   "display_name": "Python 3",
   "language": "python",
   "name": "python3"
  },
  "language_info": {
   "codemirror_mode": {
    "name": "ipython",
    "version": 3
   },
   "file_extension": ".py",
   "mimetype": "text/x-python",
   "name": "python",
   "nbconvert_exporter": "python",
   "pygments_lexer": "ipython3",
   "version": "3.5.2"
  }
 },
 "nbformat": 4,
 "nbformat_minor": 2
}
