{
 "cells": [
  {
   "cell_type": "markdown",
   "metadata": {},
   "source": [
    "# Class1. 파이썬은 무엇인가"
   ]
  },
  {
   "cell_type": "markdown",
   "metadata": {},
   "source": [
    "## 1. Introduce\n",
    "1991년에 발표된 인터프리터 방식의 프로그래밍 언어로 사전적 의미는 그리스 로마 신화에서 \n",
    "아폴로 신이 퇴치한 큰 뱀 파이썬을 의미한다. "
   ]
  },
  {
   "cell_type": "markdown",
   "metadata": {},
   "source": [
    "<img src=\"http://i29.photobucket.com/albums/c292/jameswolf123/pythonresample.jpg\" alt=\"Drawing\" style=\"width: 500px;\"/>\n"
   ]
  },
  {
   "cell_type": "markdown",
   "metadata": {},
   "source": [
    "대부분의 파이썬 책 표지와 아이콘에 뱀 모양으로 그려져 있는 이유도 여기에 있다.\n",
    "<img src=\"https://upload.wikimedia.org/wikipedia/commons/thumb/c/c3/Python-logo-notext.svg/2000px-Python-logo-notext.svg.png\" alt=\"Drawing\" style=\"width: 300px;\"/>\n",
    "\n",
    "현재 TIOBE에서 선정한 프로그래밍 언어 월간 점유율 순위 4위 "
   ]
  },
  {
   "cell_type": "markdown",
   "metadata": {},
   "source": [
    "## 2. Character\n",
    "### 2.1. Design Philosophy\n",
    "> Life is short, You need Python. 인생을 짧다, 고로 당신은 파이썬이 필요하다.\n",
    "\n",
    "기존의 프로그래밍 언어들은 하나 이상의 다양한 해결법이 존재하는것을 추구하는 반면\n",
    "파이썬은 '가장 아름다운 하나의 답이 존재한다'를 기본으로 하고 있다.\n",
    "* 아름다운 것이 추한 것보다 낫다.(Beautiful is better than ugly)\n",
    "* 명시적인 것이 암시적인 것보다 낫다. (Explicit is better than implicit) \n",
    "* 간결한 것이 복잡한 것보다 낫다. (Simple is better than complex)"
   ]
  },
  {
   "cell_type": "code",
   "execution_count": null,
   "metadata": {},
   "outputs": [],
   "source": []
  }
 ],
 "metadata": {
  "kernelspec": {
   "display_name": "Python 3",
   "language": "python",
   "name": "python3"
  },
  "language_info": {
   "codemirror_mode": {
    "name": "ipython",
    "version": 3
   },
   "file_extension": ".py",
   "mimetype": "text/x-python",
   "name": "python",
   "nbconvert_exporter": "python",
   "pygments_lexer": "ipython3",
   "version": "3.6.5"
  }
 },
 "nbformat": 4,
 "nbformat_minor": 2
}
